{
 "cells": [
  {
   "cell_type": "code",
   "execution_count": null,
   "id": "cdf09ba8-71f9-4da0-beea-6a111ef509b4",
   "metadata": {},
   "outputs": [],
   "source": []
  }
 ],
 "metadata": {
  "kernelspec": {
   "display_name": "",
   "name": ""
  },
  "language_info": {
   "name": ""
  }
 },
 "nbformat": 4,
 "nbformat_minor": 5
}
